{
  "nbformat": 4,
  "nbformat_minor": 0,
  "metadata": {
    "colab": {
      "name": "pyWS2d.ipynb",
      "provenance": [],
      "collapsed_sections": [],
      "authorship_tag": "ABX9TyPDak/rW7hoxyjrrPSC/UCj",
      "include_colab_link": true
    },
    "kernelspec": {
      "name": "python3",
      "display_name": "Python 3"
    }
  },
  "cells": [
    {
      "cell_type": "markdown",
      "metadata": {
        "id": "view-in-github",
        "colab_type": "text"
      },
      "source": [
        "<a href=\"https://colab.research.google.com/github/kavyamahesh123/pythonworkshop/blob/main/pyWS2d.ipynb\" target=\"_parent\"><img src=\"https://colab.research.google.com/assets/colab-badge.svg\" alt=\"Open In Colab\"/></a>"
      ]
    },
    {
      "cell_type": "code",
      "metadata": {
        "colab": {
          "base_uri": "https://localhost:8080/"
        },
        "id": "AZ5C0Zov6Mqy",
        "outputId": "881f28b9-f3fc-4365-dfae-6859a6ebf435"
      },
      "source": [
        "numbers={1,2,3,4}\r\n",
        "print(numbers)"
      ],
      "execution_count": null,
      "outputs": [
        {
          "output_type": "stream",
          "text": [
            "{1, 2, 3, 4}\n"
          ],
          "name": "stdout"
        }
      ]
    },
    {
      "cell_type": "code",
      "metadata": {
        "colab": {
          "base_uri": "https://localhost:8080/"
        },
        "id": "UPpoDpUM-9bH",
        "outputId": "2787a9b4-ac02-470f-b7e1-13f9cc027084"
      },
      "source": [
        "a=set(('cse','ece','ise'))\r\n",
        "print(a)"
      ],
      "execution_count": null,
      "outputs": [
        {
          "output_type": "stream",
          "text": [
            "{'ece', 'cse', 'ise'}\n"
          ],
          "name": "stdout"
        }
      ]
    },
    {
      "cell_type": "code",
      "metadata": {
        "colab": {
          "base_uri": "https://localhost:8080/"
        },
        "id": "h04lSF2l-9Xw",
        "outputId": "5502ff03-9627-46d0-b8d7-0c9d4ef80a6c"
      },
      "source": [
        "a.add(\"mech\")\r\n",
        "print(a)\r\n",
        "print(len(a))"
      ],
      "execution_count": null,
      "outputs": [
        {
          "output_type": "stream",
          "text": [
            "{'ece', 'cse', 'ise', 'mech'}\n",
            "4\n"
          ],
          "name": "stdout"
        }
      ]
    },
    {
      "cell_type": "code",
      "metadata": {
        "colab": {
          "base_uri": "https://localhost:8080/"
        },
        "id": "U-53XCsQ_54B",
        "outputId": "e0af1ca0-9658-46bc-cea5-e8134e6b0671"
      },
      "source": [
        "a=set(('ece','cse','ise','mech'))\r\n",
        "print(len(a))\r\n",
        "a.add('cse')\r\n",
        "print(len(a))\r\n",
        "print(a)"
      ],
      "execution_count": null,
      "outputs": [
        {
          "output_type": "stream",
          "text": [
            "4\n",
            "4\n",
            "{'ece', 'cse', 'ise', 'mech'}\n"
          ],
          "name": "stdout"
        }
      ]
    },
    {
      "cell_type": "code",
      "metadata": {
        "colab": {
          "base_uri": "https://localhost:8080/"
        },
        "id": "V_uq7ZY4Aglb",
        "outputId": "bc95d7eb-a0d5-45b7-a805-ee3563ea6701"
      },
      "source": [
        "a=set(('ecce','ces','ise'))\r\n",
        "a.remove('ise')\r\n",
        "print(a)"
      ],
      "execution_count": null,
      "outputs": [
        {
          "output_type": "stream",
          "text": [
            "{'ecce', 'ces'}\n"
          ],
          "name": "stdout"
        }
      ]
    },
    {
      "cell_type": "code",
      "metadata": {
        "colab": {
          "base_uri": "https://localhost:8080/"
        },
        "id": "IhAlcfbbBdkQ",
        "outputId": "e829da5b-f422-4d35-c269-3c414ca591ca"
      },
      "source": [
        "a=set(('cse','ise','ece','mech'))\r\n",
        "deleted=a.pop()\r\n",
        "print(deleted)\r\n",
        "print(a)"
      ],
      "execution_count": null,
      "outputs": [
        {
          "output_type": "stream",
          "text": [
            "ise\n",
            "{'cse', 'ece', 'mech'}\n"
          ],
          "name": "stdout"
        }
      ]
    },
    {
      "cell_type": "code",
      "metadata": {
        "colab": {
          "base_uri": "https://localhost:8080/"
        },
        "id": "SD4BN1mNCE2B",
        "outputId": "f523779b-31db-4495-9abb-5fae507aac65"
      },
      "source": [
        "a={'apple','banana','cherry'}\r\n",
        "a.clear()\r\n",
        "print(a)\r\n",
        "print(len(a))"
      ],
      "execution_count": null,
      "outputs": [
        {
          "output_type": "stream",
          "text": [
            "set()\n",
            "0\n"
          ],
          "name": "stdout"
        }
      ]
    },
    {
      "cell_type": "code",
      "metadata": {
        "colab": {
          "base_uri": "https://localhost:8080/",
          "height": 195
        },
        "id": "KN2lY8slCWcu",
        "outputId": "710b424c-a702-43f1-9d58-eecc131591de"
      },
      "source": [
        "a={'apple','banana'}\r\n",
        "del a\r\n",
        "print(a)"
      ],
      "execution_count": null,
      "outputs": [
        {
          "output_type": "error",
          "ename": "NameError",
          "evalue": "ignored",
          "traceback": [
            "\u001b[0;31m---------------------------------------------------------------------------\u001b[0m",
            "\u001b[0;31mNameError\u001b[0m                                 Traceback (most recent call last)",
            "\u001b[0;32m<ipython-input-14-36180e86cced>\u001b[0m in \u001b[0;36m<module>\u001b[0;34m()\u001b[0m\n\u001b[1;32m      1\u001b[0m \u001b[0ma\u001b[0m\u001b[0;34m=\u001b[0m\u001b[0;34m{\u001b[0m\u001b[0;34m'apple'\u001b[0m\u001b[0;34m,\u001b[0m\u001b[0;34m'banana'\u001b[0m\u001b[0;34m}\u001b[0m\u001b[0;34m\u001b[0m\u001b[0;34m\u001b[0m\u001b[0m\n\u001b[1;32m      2\u001b[0m \u001b[0;32mdel\u001b[0m \u001b[0ma\u001b[0m\u001b[0;34m\u001b[0m\u001b[0;34m\u001b[0m\u001b[0m\n\u001b[0;32m----> 3\u001b[0;31m \u001b[0mprint\u001b[0m\u001b[0;34m(\u001b[0m\u001b[0ma\u001b[0m\u001b[0;34m)\u001b[0m\u001b[0;34m\u001b[0m\u001b[0;34m\u001b[0m\u001b[0m\n\u001b[0m",
            "\u001b[0;31mNameError\u001b[0m: name 'a' is not defined"
          ]
        }
      ]
    },
    {
      "cell_type": "code",
      "metadata": {
        "colab": {
          "base_uri": "https://localhost:8080/"
        },
        "id": "UT8McG7KCrZJ",
        "outputId": "92918764-4ec2-43a3-c879-bc117c00a3f1"
      },
      "source": [
        "set1={'a','b','c'}\r\n",
        "set2={'1','2','3'}\r\n",
        "set3=set1.union(set2)\r\n",
        "print(set3)\r\n"
      ],
      "execution_count": null,
      "outputs": [
        {
          "output_type": "stream",
          "text": [
            "{'1', '2', 'a', 'c', 'b', '3'}\n"
          ],
          "name": "stdout"
        }
      ]
    },
    {
      "cell_type": "code",
      "metadata": {
        "colab": {
          "base_uri": "https://localhost:8080/"
        },
        "id": "TqZeQwB1DTUZ",
        "outputId": "ad594bd3-bee7-4a63-84b2-87955f7ae453"
      },
      "source": [
        "a={'apple','banana','cherry'}\r\n",
        "b={'pineapple','mango','grapes'}\r\n",
        "a.update(b)\r\n",
        "print(a)"
      ],
      "execution_count": null,
      "outputs": [
        {
          "output_type": "stream",
          "text": [
            "{'cherry', 'pineapple', 'grapes', 'apple', 'banana', 'mango'}\n"
          ],
          "name": "stdout"
        }
      ]
    },
    {
      "cell_type": "code",
      "metadata": {
        "colab": {
          "base_uri": "https://localhost:8080/"
        },
        "id": "u6FqQfr1D1Cr",
        "outputId": "f7dd2ff0-1ccf-4c52-ea38-61a5bd18b9a9"
      },
      "source": [
        "a={'apple','banana','cherry'}\r\n",
        "b=['pineapple','mango','grapes']\r\n",
        "a.update(b)\r\n",
        "print(a)"
      ],
      "execution_count": null,
      "outputs": [
        {
          "output_type": "stream",
          "text": [
            "{'cherry', 'grapes', 'apple', 'mango', 'pineapple', 'banana'}\n"
          ],
          "name": "stdout"
        }
      ]
    },
    {
      "cell_type": "code",
      "metadata": {
        "colab": {
          "base_uri": "https://localhost:8080/"
        },
        "id": "DeBYdUzUEQni",
        "outputId": "e70581b5-2083-4614-91e7-a002754344f8"
      },
      "source": [
        "a={'1','2','3'}\r\n",
        "b={'1','2','3'}\r\n",
        "a.update(b)\r\n",
        "print(a)"
      ],
      "execution_count": null,
      "outputs": [
        {
          "output_type": "stream",
          "text": [
            "{'1', '2', '3'}\n"
          ],
          "name": "stdout"
        }
      ]
    },
    {
      "cell_type": "code",
      "metadata": {
        "colab": {
          "base_uri": "https://localhost:8080/"
        },
        "id": "uPMvF-Q-Epc4",
        "outputId": "531279d9-b216-4634-af0a-df29ed408b09"
      },
      "source": [
        "a=[1,2,3,4,5,6,2]\r\n",
        "b=set(a)\r\n",
        "print(b)\r\n",
        "print(len(b))"
      ],
      "execution_count": null,
      "outputs": [
        {
          "output_type": "stream",
          "text": [
            "{1, 2, 3, 4, 5, 6}\n",
            "6\n"
          ],
          "name": "stdout"
        }
      ]
    },
    {
      "cell_type": "code",
      "metadata": {
        "colab": {
          "base_uri": "https://localhost:8080/"
        },
        "id": "Btyd6xsKFZNQ",
        "outputId": "09bf6a3d-58f8-439e-9364-3123975aff03"
      },
      "source": [
        "a={'apple','banana','cherry'}\r\n",
        "a.add('orange')\r\n",
        "print(a)"
      ],
      "execution_count": null,
      "outputs": [
        {
          "output_type": "stream",
          "text": [
            "{'orange', 'cherry', 'apple', 'banana'}\n"
          ],
          "name": "stdout"
        }
      ]
    },
    {
      "cell_type": "code",
      "metadata": {
        "colab": {
          "base_uri": "https://localhost:8080/"
        },
        "id": "_T1cHR3sF3RQ",
        "outputId": "7e264394-9dcd-49a2-a468-b2944b184759"
      },
      "source": [
        "a={'apple','banana','cherry'}\r\n",
        "more_a=['orange','mango','grapes']\r\n",
        "a.update(more_a)\r\n",
        "print(a)"
      ],
      "execution_count": null,
      "outputs": [
        {
          "output_type": "stream",
          "text": [
            "{'cherry', 'orange', 'grapes', 'apple', 'mango', 'banana'}\n"
          ],
          "name": "stdout"
        }
      ]
    },
    {
      "cell_type": "code",
      "metadata": {
        "colab": {
          "base_uri": "https://localhost:8080/"
        },
        "id": "DVe6TVICGx_w",
        "outputId": "a3153cd5-678a-4c99-93bb-2b3a0a678a0c"
      },
      "source": [
        "a={'apple','banana','cherry'}\r\n",
        "a.remove('banana')\r\n",
        "print(a)"
      ],
      "execution_count": null,
      "outputs": [
        {
          "output_type": "stream",
          "text": [
            "{'cherry', 'apple'}\n"
          ],
          "name": "stdout"
        }
      ]
    },
    {
      "cell_type": "code",
      "metadata": {
        "colab": {
          "base_uri": "https://localhost:8080/"
        },
        "id": "1J4RqlNsHEFS",
        "outputId": "3cd6076d-08cb-4ed5-bc87-6d4ebf402f89"
      },
      "source": [
        "a={'apple','banana','cherry'}\r\n",
        "a.discard('banana')\r\n",
        "print(a)"
      ],
      "execution_count": null,
      "outputs": [
        {
          "output_type": "stream",
          "text": [
            "{'cherry', 'apple'}\n"
          ],
          "name": "stdout"
        }
      ]
    },
    {
      "cell_type": "code",
      "metadata": {
        "colab": {
          "base_uri": "https://localhost:8080/"
        },
        "id": "BXiBNN0vHhzh",
        "outputId": "ca8c2df1-30b2-46c4-d6af-873daa237a1d"
      },
      "source": [
        "print(len(set([1,2,1,2,3,])))"
      ],
      "execution_count": null,
      "outputs": [
        {
          "output_type": "stream",
          "text": [
            "3\n"
          ],
          "name": "stdout"
        }
      ]
    },
    {
      "cell_type": "code",
      "metadata": {
        "colab": {
          "base_uri": "https://localhost:8080/"
        },
        "id": "PQFfmagSJBw5",
        "outputId": "915a0a88-0ef9-460b-a3c4-645c47f9cac3"
      },
      "source": [
        "today={\r\n",
        "    'day':'thursday',\r\n",
        "    'date':'07 01 2021',\r\n",
        "    'month':'january'\r\n",
        "}\r\n",
        "print(today)"
      ],
      "execution_count": null,
      "outputs": [
        {
          "output_type": "stream",
          "text": [
            "{'day': 'thursday', 'date': '07 01 2021', 'month': 'january'}\n"
          ],
          "name": "stdout"
        }
      ]
    },
    {
      "cell_type": "code",
      "metadata": {
        "colab": {
          "base_uri": "https://localhost:8080/"
        },
        "id": "vtMnf1IpJxsW",
        "outputId": "c7eaf315-4bf6-485b-a0f4-7ff0407c5514"
      },
      "source": [
        "help(set)"
      ],
      "execution_count": null,
      "outputs": [
        {
          "output_type": "stream",
          "text": [
            "Help on class set in module builtins:\n",
            "\n",
            "class set(object)\n",
            " |  set() -> new empty set object\n",
            " |  set(iterable) -> new set object\n",
            " |  \n",
            " |  Build an unordered collection of unique elements.\n",
            " |  \n",
            " |  Methods defined here:\n",
            " |  \n",
            " |  __and__(self, value, /)\n",
            " |      Return self&value.\n",
            " |  \n",
            " |  __contains__(...)\n",
            " |      x.__contains__(y) <==> y in x.\n",
            " |  \n",
            " |  __eq__(self, value, /)\n",
            " |      Return self==value.\n",
            " |  \n",
            " |  __ge__(self, value, /)\n",
            " |      Return self>=value.\n",
            " |  \n",
            " |  __getattribute__(self, name, /)\n",
            " |      Return getattr(self, name).\n",
            " |  \n",
            " |  __gt__(self, value, /)\n",
            " |      Return self>value.\n",
            " |  \n",
            " |  __iand__(self, value, /)\n",
            " |      Return self&=value.\n",
            " |  \n",
            " |  __init__(self, /, *args, **kwargs)\n",
            " |      Initialize self.  See help(type(self)) for accurate signature.\n",
            " |  \n",
            " |  __ior__(self, value, /)\n",
            " |      Return self|=value.\n",
            " |  \n",
            " |  __isub__(self, value, /)\n",
            " |      Return self-=value.\n",
            " |  \n",
            " |  __iter__(self, /)\n",
            " |      Implement iter(self).\n",
            " |  \n",
            " |  __ixor__(self, value, /)\n",
            " |      Return self^=value.\n",
            " |  \n",
            " |  __le__(self, value, /)\n",
            " |      Return self<=value.\n",
            " |  \n",
            " |  __len__(self, /)\n",
            " |      Return len(self).\n",
            " |  \n",
            " |  __lt__(self, value, /)\n",
            " |      Return self<value.\n",
            " |  \n",
            " |  __ne__(self, value, /)\n",
            " |      Return self!=value.\n",
            " |  \n",
            " |  __new__(*args, **kwargs) from builtins.type\n",
            " |      Create and return a new object.  See help(type) for accurate signature.\n",
            " |  \n",
            " |  __or__(self, value, /)\n",
            " |      Return self|value.\n",
            " |  \n",
            " |  __rand__(self, value, /)\n",
            " |      Return value&self.\n",
            " |  \n",
            " |  __reduce__(...)\n",
            " |      Return state information for pickling.\n",
            " |  \n",
            " |  __repr__(self, /)\n",
            " |      Return repr(self).\n",
            " |  \n",
            " |  __ror__(self, value, /)\n",
            " |      Return value|self.\n",
            " |  \n",
            " |  __rsub__(self, value, /)\n",
            " |      Return value-self.\n",
            " |  \n",
            " |  __rxor__(self, value, /)\n",
            " |      Return value^self.\n",
            " |  \n",
            " |  __sizeof__(...)\n",
            " |      S.__sizeof__() -> size of S in memory, in bytes\n",
            " |  \n",
            " |  __sub__(self, value, /)\n",
            " |      Return self-value.\n",
            " |  \n",
            " |  __xor__(self, value, /)\n",
            " |      Return self^value.\n",
            " |  \n",
            " |  add(...)\n",
            " |      Add an element to a set.\n",
            " |      \n",
            " |      This has no effect if the element is already present.\n",
            " |  \n",
            " |  clear(...)\n",
            " |      Remove all elements from this set.\n",
            " |  \n",
            " |  copy(...)\n",
            " |      Return a shallow copy of a set.\n",
            " |  \n",
            " |  difference(...)\n",
            " |      Return the difference of two or more sets as a new set.\n",
            " |      \n",
            " |      (i.e. all elements that are in this set but not the others.)\n",
            " |  \n",
            " |  difference_update(...)\n",
            " |      Remove all elements of another set from this set.\n",
            " |  \n",
            " |  discard(...)\n",
            " |      Remove an element from a set if it is a member.\n",
            " |      \n",
            " |      If the element is not a member, do nothing.\n",
            " |  \n",
            " |  intersection(...)\n",
            " |      Return the intersection of two sets as a new set.\n",
            " |      \n",
            " |      (i.e. all elements that are in both sets.)\n",
            " |  \n",
            " |  intersection_update(...)\n",
            " |      Update a set with the intersection of itself and another.\n",
            " |  \n",
            " |  isdisjoint(...)\n",
            " |      Return True if two sets have a null intersection.\n",
            " |  \n",
            " |  issubset(...)\n",
            " |      Report whether another set contains this set.\n",
            " |  \n",
            " |  issuperset(...)\n",
            " |      Report whether this set contains another set.\n",
            " |  \n",
            " |  pop(...)\n",
            " |      Remove and return an arbitrary set element.\n",
            " |      Raises KeyError if the set is empty.\n",
            " |  \n",
            " |  remove(...)\n",
            " |      Remove an element from a set; it must be a member.\n",
            " |      \n",
            " |      If the element is not a member, raise a KeyError.\n",
            " |  \n",
            " |  symmetric_difference(...)\n",
            " |      Return the symmetric difference of two sets as a new set.\n",
            " |      \n",
            " |      (i.e. all elements that are in exactly one of the sets.)\n",
            " |  \n",
            " |  symmetric_difference_update(...)\n",
            " |      Update a set with the symmetric difference of itself and another.\n",
            " |  \n",
            " |  union(...)\n",
            " |      Return the union of sets as a new set.\n",
            " |      \n",
            " |      (i.e. all elements that are in either set.)\n",
            " |  \n",
            " |  update(...)\n",
            " |      Update a set with the union of itself and others.\n",
            " |  \n",
            " |  ----------------------------------------------------------------------\n",
            " |  Data and other attributes defined here:\n",
            " |  \n",
            " |  __hash__ = None\n",
            "\n"
          ],
          "name": "stdout"
        }
      ]
    },
    {
      "cell_type": "code",
      "metadata": {
        "colab": {
          "base_uri": "https://localhost:8080/"
        },
        "id": "lzQVHjkVJn4t",
        "outputId": "26236b7b-7723-4443-b706-a6a57656a002"
      },
      "source": [
        "a={\r\n",
        "    'brand':'ford',\r\n",
        "   'model':'mustang',\r\n",
        "   'year':'1994',\r\n",
        "   #'year':'2021',\r\n",
        "   #'model':'Gt'\r\n",
        "}\r\n",
        "x=a.get('model')\r\n",
        "print(x)\r\n",
        "print(a)\r\n",
        "print(len(a))"
      ],
      "execution_count": null,
      "outputs": [
        {
          "output_type": "stream",
          "text": [
            "mustang\n",
            "{'brand': 'ford', 'model': 'mustang', 'year': '1994'}\n",
            "3\n"
          ],
          "name": "stdout"
        }
      ]
    },
    {
      "cell_type": "code",
      "metadata": {
        "colab": {
          "base_uri": "https://localhost:8080/"
        },
        "id": "68xkjurOMNig",
        "outputId": "71b95705-ee28-428a-a370-a9bf3391cd50"
      },
      "source": [
        "a={\r\n",
        "    'brand':'ford',\r\n",
        "   'model':'mustang',\r\n",
        "   'year':'1994'\r\n",
        "}\r\n",
        "x=a.keys()\r\n",
        "print(x)"
      ],
      "execution_count": null,
      "outputs": [
        {
          "output_type": "stream",
          "text": [
            "dict_keys(['brand', 'model', 'year'])\n"
          ],
          "name": "stdout"
        }
      ]
    },
    {
      "cell_type": "code",
      "metadata": {
        "colab": {
          "base_uri": "https://localhost:8080/"
        },
        "id": "cHo7pUq_MoCx",
        "outputId": "e061b3c0-87e0-4026-c68e-9ef42afe6024"
      },
      "source": [
        "a={\r\n",
        "    'brand':'ford',\r\n",
        "   'model':'mustang',\r\n",
        "   'year':'1994'\r\n",
        "}\r\n",
        "x=a.values()\r\n",
        "a[\"year\"]=2021\r\n",
        "a[\"model\"]=\"mercede\"\r\n",
        "a[\"brand\"]='benz'\r\n",
        "print(x)"
      ],
      "execution_count": null,
      "outputs": [
        {
          "output_type": "stream",
          "text": [
            "dict_values(['benz', 'mercede', 2021])\n"
          ],
          "name": "stdout"
        }
      ]
    },
    {
      "cell_type": "code",
      "metadata": {
        "colab": {
          "base_uri": "https://localhost:8080/"
        },
        "id": "R1UIhHkVN4Sy",
        "outputId": "8a7657bf-60d3-4612-c932-fe31158b3c19"
      },
      "source": [
        "a={\r\n",
        "    'brand':'ford',\r\n",
        "   'model':'mustang',\r\n",
        "   'year':'1994'\r\n",
        "}\r\n",
        "a[\"color\"]=\"red\"\r\n",
        "print(type(a))\r\n",
        "print(a)"
      ],
      "execution_count": null,
      "outputs": [
        {
          "output_type": "stream",
          "text": [
            "<class 'dict'>\n",
            "{'brand': 'ford', 'model': 'mustang', 'year': '1994', 'color': 'red'}\n"
          ],
          "name": "stdout"
        }
      ]
    },
    {
      "cell_type": "code",
      "metadata": {
        "colab": {
          "base_uri": "https://localhost:8080/"
        },
        "id": "Jdbsqrs5OtlH",
        "outputId": "0bc55c52-cc1e-403f-b5c5-0b32157f692d"
      },
      "source": [
        "a={\r\n",
        "    'brand':'ford',\r\n",
        "   'model':'mustang',\r\n",
        "   'year':'1994'\r\n",
        "}\r\n",
        "a.update({\"color\":\"red\"})\r\n",
        "print(type(a))\r\n",
        "print(a)"
      ],
      "execution_count": null,
      "outputs": [
        {
          "output_type": "stream",
          "text": [
            "<class 'dict'>\n",
            "{'brand': 'ford', 'model': 'mustang', 'year': '1994', 'color': 'red'}\n"
          ],
          "name": "stdout"
        }
      ]
    },
    {
      "cell_type": "code",
      "metadata": {
        "colab": {
          "base_uri": "https://localhost:8080/"
        },
        "id": "Qqu-tADAPAT7",
        "outputId": "7ac9ba5b-ef30-4088-ae5b-6d3cd0410361"
      },
      "source": [
        "a={\r\n",
        "    'brand':'ford',\r\n",
        "   'model':'mustang',\r\n",
        "   'year':'1994'\r\n",
        "}\r\n",
        "a.update({\"color\":\"red\"})\r\n",
        "a.pop(\"model\")\r\n",
        "print(type(a))\r\n",
        "print(a)\r\n",
        "print(len(a))"
      ],
      "execution_count": null,
      "outputs": [
        {
          "output_type": "stream",
          "text": [
            "<class 'dict'>\n",
            "{'brand': 'ford', 'year': '1994', 'color': 'red'}\n",
            "3\n"
          ],
          "name": "stdout"
        }
      ]
    },
    {
      "cell_type": "code",
      "metadata": {
        "colab": {
          "base_uri": "https://localhost:8080/"
        },
        "id": "9k8Bk-tDPgbS",
        "outputId": "0dae13e8-24ad-46c6-8194-d78391dfb823"
      },
      "source": [
        "a={\r\n",
        "    'brand':'ford',\r\n",
        "   'model':'mustang',\r\n",
        "   'year':'1994'\r\n",
        "}\r\n",
        "a.update({\"color\":\"red\"})\r\n",
        "a.popitem()\r\n",
        "print(type(a))\r\n",
        "print(a)"
      ],
      "execution_count": null,
      "outputs": [
        {
          "output_type": "stream",
          "text": [
            "<class 'dict'>\n",
            "{'brand': 'ford', 'model': 'mustang', 'year': '1994'}\n"
          ],
          "name": "stdout"
        }
      ]
    },
    {
      "cell_type": "code",
      "metadata": {
        "colab": {
          "base_uri": "https://localhost:8080/"
        },
        "id": "9aHB-mJaP_qu",
        "outputId": "fbb54449-551c-4dcb-ae31-5090833d578b"
      },
      "source": [
        "a={\r\n",
        "    'brand':'ford',\r\n",
        "   'model':'mustang',\r\n",
        "   'year':'1994'\r\n",
        "}\r\n",
        "a.clear()\r\n",
        "print(a)"
      ],
      "execution_count": null,
      "outputs": [
        {
          "output_type": "stream",
          "text": [
            "{}\n"
          ],
          "name": "stdout"
        }
      ]
    },
    {
      "cell_type": "code",
      "metadata": {
        "colab": {
          "base_uri": "https://localhost:8080/",
          "height": 35
        },
        "id": "_Lum8Lc5Qgyc",
        "outputId": "b3eb42c5-463d-4037-d61c-c5519a6a9fab"
      },
      "source": [
        "a={\r\n",
        "    'brand':'ford',\r\n",
        "   'model':'mustang',\r\n",
        "   'year':'1994'\r\n",
        "}\r\n",
        "a.get(\"model\")"
      ],
      "execution_count": null,
      "outputs": [
        {
          "output_type": "execute_result",
          "data": {
            "application/vnd.google.colaboratory.intrinsic+json": {
              "type": "string"
            },
            "text/plain": [
              "'mustang'"
            ]
          },
          "metadata": {
            "tags": []
          },
          "execution_count": 77
        }
      ]
    },
    {
      "cell_type": "code",
      "metadata": {
        "colab": {
          "base_uri": "https://localhost:8080/"
        },
        "id": "YUF008UZRfKD",
        "outputId": "97205c73-01aa-4918-8657-327d844815b6"
      },
      "source": [
        "a={\r\n",
        "    'brand':'ford',\r\n",
        "   'model':'mustang',\r\n",
        "   'year':'1994'\r\n",
        "}\r\n",
        "print(a.update({'color':'red'}))\r\n",
        "print(a)"
      ],
      "execution_count": null,
      "outputs": [
        {
          "output_type": "stream",
          "text": [
            "None\n",
            "{'brand': 'ford', 'model': 'mustang', 'year': '1994', 'color': 'red'}\n"
          ],
          "name": "stdout"
        }
      ]
    },
    {
      "cell_type": "code",
      "metadata": {
        "colab": {
          "base_uri": "https://localhost:8080/"
        },
        "id": "0-cuMAJBSZtU",
        "outputId": "dd95c89e-00cd-4a59-a362-bef939ef70e7"
      },
      "source": [
        "a={\r\n",
        "    'brand':'ford',\r\n",
        "   'model':'mustang',\r\n",
        "   'year':'1994'\r\n",
        "}\r\n",
        "del a['model']\r\n",
        "print(a)"
      ],
      "execution_count": null,
      "outputs": [
        {
          "output_type": "stream",
          "text": [
            "{'brand': 'ford', 'year': '1994'}\n"
          ],
          "name": "stdout"
        }
      ]
    },
    {
      "cell_type": "code",
      "metadata": {
        "colab": {
          "base_uri": "https://localhost:8080/"
        },
        "id": "EqoRQPw0ZHpS",
        "outputId": "df681e60-9428-4447-f6ed-23ba90e8fb3f"
      },
      "source": [
        "a=33\r\n",
        "b=100\r\n",
        "if b>a:\r\n",
        "  print(\"b is greater than a\")"
      ],
      "execution_count": null,
      "outputs": [
        {
          "output_type": "stream",
          "text": [
            "b is greater than a\n"
          ],
          "name": "stdout"
        }
      ]
    },
    {
      "cell_type": "code",
      "metadata": {
        "colab": {
          "base_uri": "https://localhost:8080/"
        },
        "id": "HPfjbABIZsFO",
        "outputId": "e1d90366-79b2-4798-f7a7-591b62c69db1"
      },
      "source": [
        "a=33\r\n",
        "b=33\r\n",
        "if b>a:\r\n",
        "  print(\"b is greater than a\")\r\n",
        "elif b==a:\r\n",
        "  print(\"a and b are equal\")"
      ],
      "execution_count": null,
      "outputs": [
        {
          "output_type": "stream",
          "text": [
            "a and b are equal\n"
          ],
          "name": "stdout"
        }
      ]
    },
    {
      "cell_type": "code",
      "metadata": {
        "colab": {
          "base_uri": "https://localhost:8080/"
        },
        "id": "ui74zzwAaUf-",
        "outputId": "d24e5b81-6e2a-4733-e02a-860829834f3c"
      },
      "source": [
        "a=100\r\n",
        "b=33\r\n",
        "if b>a:\r\n",
        "  print(\"b is greater than a\")\r\n",
        "elif a==b:\r\n",
        "  print(\"a and b are equal\")\r\n",
        "else:\r\n",
        "  print(\"a is greater than b\")"
      ],
      "execution_count": null,
      "outputs": [
        {
          "output_type": "stream",
          "text": [
            "a is greater than b\n"
          ],
          "name": "stdout"
        }
      ]
    },
    {
      "cell_type": "code",
      "metadata": {
        "colab": {
          "base_uri": "https://localhost:8080/"
        },
        "id": "i1KtIKNbaowT",
        "outputId": "c21799b7-c335-4c6c-d230-3281ee972619"
      },
      "source": [
        "a=50\r\n",
        "b=10\r\n",
        "if a>b:\r\n",
        "  print(\"hello  world\")"
      ],
      "execution_count": null,
      "outputs": [
        {
          "output_type": "stream",
          "text": [
            "hello  world\n"
          ],
          "name": "stdout"
        }
      ]
    },
    {
      "cell_type": "code",
      "metadata": {
        "colab": {
          "base_uri": "https://localhost:8080/"
        },
        "id": "KAMmB8S-bCjM",
        "outputId": "2d3188f2-f318-42d2-a558-8e5f3ab4e12a"
      },
      "source": [
        "x=(input(\"enter the value of x:\"))\r\n",
        "y=(input(\"enter the value of y:\"))\r\n",
        "z=(input(\"enter the value 0f z:\"))\r\n",
        "if x>y:\r\n",
        "  if x>z:\r\n",
        "    print(\"x is greater\")\r\n",
        "  else:\r\n",
        "    print(\"z is greater\")\r\n",
        "elif y>z: \r\n",
        "  print(\"y is greater\")\r\n",
        "else:\r\n",
        "  print(\"z is greater\")"
      ],
      "execution_count": null,
      "outputs": [
        {
          "output_type": "stream",
          "text": [
            "enter the value of x:10\n",
            "enter the value of y:20\n",
            "enter the value 0f z:30\n",
            "z is greater\n"
          ],
          "name": "stdout"
        }
      ]
    },
    {
      "cell_type": "code",
      "metadata": {
        "colab": {
          "base_uri": "https://localhost:8080/"
        },
        "id": "GO7GvxHtepbZ",
        "outputId": "6e8b65dc-ddd6-47a8-a44e-582609f92ed0"
      },
      "source": [
        "x=int(input(\"enter the value of x:\"))\r\n",
        "y=int(input(\"enter the value of y:\"))\r\n",
        "z=int(input(\"enter the value 0f z:\"))\r\n",
        "if (x>b) and (x>z):\r\n",
        "  print(\"x is greater\")\r\n",
        "elif (y>x) and (y>z):\r\n",
        "  print(\"y is greater\")\r\n",
        "else:\r\n",
        "  print(\"z is greater\")"
      ],
      "execution_count": null,
      "outputs": [
        {
          "output_type": "stream",
          "text": [
            "enter the value of x:10\n",
            "enter the value of y:20\n",
            "enter the value 0f z:30\n",
            "z is greater\n"
          ],
          "name": "stdout"
        }
      ]
    },
    {
      "cell_type": "code",
      "metadata": {
        "colab": {
          "base_uri": "https://localhost:8080/"
        },
        "id": "S4DJNnKhfro7",
        "outputId": "66c81937-425d-403c-fb25-64a3fa27faa6"
      },
      "source": [
        "i=1\r\n",
        "while i<6:\r\n",
        "  print(i)\r\n",
        "  if i==3:\r\n",
        "    break\r\n",
        "  i+=1\r\n",
        "print(i)"
      ],
      "execution_count": null,
      "outputs": [
        {
          "output_type": "stream",
          "text": [
            "1\n",
            "2\n",
            "3\n",
            "3\n"
          ],
          "name": "stdout"
        }
      ]
    },
    {
      "cell_type": "code",
      "metadata": {
        "colab": {
          "base_uri": "https://localhost:8080/"
        },
        "id": "u2BMT3iXgYmr",
        "outputId": "6ba6f952-efa3-47bc-cdfa-780a5c679e74"
      },
      "source": [
        "i=0\r\n",
        "while i<6:\r\n",
        "  i+=1\r\n",
        "  if i==3:\r\n",
        "    continue\r\n",
        "  print(i)"
      ],
      "execution_count": null,
      "outputs": [
        {
          "output_type": "stream",
          "text": [
            "1\n",
            "2\n",
            "4\n",
            "5\n",
            "6\n"
          ],
          "name": "stdout"
        }
      ]
    },
    {
      "cell_type": "code",
      "metadata": {
        "colab": {
          "base_uri": "https://localhost:8080/"
        },
        "id": "bSf7VE2KlRPy",
        "outputId": "1ab47ce0-1d6d-4e9a-8d94-dd1621a0bccc"
      },
      "source": [
        "A=[\"APPLE\",\"BANANA\",\"CHERRY\"]\r\n",
        "for x in A:\r\n",
        "  print(x)"
      ],
      "execution_count": null,
      "outputs": [
        {
          "output_type": "stream",
          "text": [
            "APPLE\n",
            "BANANA\n",
            "CHERRY\n"
          ],
          "name": "stdout"
        }
      ]
    },
    {
      "cell_type": "code",
      "metadata": {
        "colab": {
          "base_uri": "https://localhost:8080/"
        },
        "id": "aUcnvrDml9rV",
        "outputId": "bc34b37a-1a15-4693-9bdd-990e19bd934f"
      },
      "source": [
        "A=[\"APPLE\",\"BANANA\",\"CHERRY\"]\r\n",
        "for x in \"BANANA\":\r\n",
        "  print(x)"
      ],
      "execution_count": null,
      "outputs": [
        {
          "output_type": "stream",
          "text": [
            "B\n",
            "A\n",
            "N\n",
            "A\n",
            "N\n",
            "A\n"
          ],
          "name": "stdout"
        }
      ]
    },
    {
      "cell_type": "code",
      "metadata": {
        "colab": {
          "base_uri": "https://localhost:8080/"
        },
        "id": "SgAiuMBWmRwM",
        "outputId": "ded10546-58ea-467f-9013-ee960801b523"
      },
      "source": [
        "A=[\"APPLE\",\"BANANA\",\"CHERRY\"]\r\n",
        "for x in A:\r\n",
        "  print(x)\r\n",
        "  if  x==\"BANANA\":\r\n",
        "    break"
      ],
      "execution_count": null,
      "outputs": [
        {
          "output_type": "stream",
          "text": [
            "APPLE\n",
            "BANANA\n"
          ],
          "name": "stdout"
        }
      ]
    },
    {
      "cell_type": "code",
      "metadata": {
        "colab": {
          "base_uri": "https://localhost:8080/"
        },
        "id": "yxRiL0hGmmO3",
        "outputId": "abb1b38c-d507-41e7-958d-971fa769f395"
      },
      "source": [
        "for x in range(5):\r\n",
        "  print(x)"
      ],
      "execution_count": null,
      "outputs": [
        {
          "output_type": "stream",
          "text": [
            "0\n",
            "1\n",
            "2\n",
            "3\n",
            "4\n"
          ],
          "name": "stdout"
        }
      ]
    },
    {
      "cell_type": "code",
      "metadata": {
        "colab": {
          "base_uri": "https://localhost:8080/"
        },
        "id": "kKCoTNQAnBdM",
        "outputId": "b69c71e6-6b0a-4288-df29-36007ed74eb0"
      },
      "source": [
        "for x in range(2,30,7):\r\n",
        "  print(x)"
      ],
      "execution_count": null,
      "outputs": [
        {
          "output_type": "stream",
          "text": [
            "2\n",
            "9\n",
            "16\n",
            "23\n"
          ],
          "name": "stdout"
        }
      ]
    },
    {
      "cell_type": "code",
      "metadata": {
        "colab": {
          "base_uri": "https://localhost:8080/"
        },
        "id": "fPYHxmIwnsjv",
        "outputId": "7bd4c283-3b76-4368-e1e7-c60aba12b413"
      },
      "source": [
        "adj=[\"apple\",\"banana\",\"cherry\"]\r\n",
        "fruits=[\"red\",\"big\",\"tasty\"]\r\n",
        "for x in adj:\r\n",
        "  for y in fruits:\r\n",
        "    print(x,y)"
      ],
      "execution_count": null,
      "outputs": [
        {
          "output_type": "stream",
          "text": [
            "apple red\n",
            "apple big\n",
            "apple tasty\n",
            "banana red\n",
            "banana big\n",
            "banana tasty\n",
            "cherry red\n",
            "cherry big\n",
            "cherry tasty\n"
          ],
          "name": "stdout"
        }
      ]
    },
    {
      "cell_type": "code",
      "metadata": {
        "colab": {
          "base_uri": "https://localhost:8080/"
        },
        "id": "Mz-H1uIzoYQg",
        "outputId": "d3d5bf2c-1ea9-4cca-ba2c-595342765f64"
      },
      "source": [
        "x=0\r\n",
        "while(x<100):\r\n",
        "  x+=2\r\n",
        "  print(x)"
      ],
      "execution_count": null,
      "outputs": [
        {
          "output_type": "stream",
          "text": [
            "2\n",
            "4\n",
            "6\n",
            "8\n",
            "10\n",
            "12\n",
            "14\n",
            "16\n",
            "18\n",
            "20\n",
            "22\n",
            "24\n",
            "26\n",
            "28\n",
            "30\n",
            "32\n",
            "34\n",
            "36\n",
            "38\n",
            "40\n",
            "42\n",
            "44\n",
            "46\n",
            "48\n",
            "50\n",
            "52\n",
            "54\n",
            "56\n",
            "58\n",
            "60\n",
            "62\n",
            "64\n",
            "66\n",
            "68\n",
            "70\n",
            "72\n",
            "74\n",
            "76\n",
            "78\n",
            "80\n",
            "82\n",
            "84\n",
            "86\n",
            "88\n",
            "90\n",
            "92\n",
            "94\n",
            "96\n",
            "98\n",
            "100\n"
          ],
          "name": "stdout"
        }
      ]
    },
    {
      "cell_type": "code",
      "metadata": {
        "colab": {
          "base_uri": "https://localhost:8080/"
        },
        "id": "M80AhKrJp2f3",
        "outputId": "42779343-2d7b-44e8-ba5a-d943c0b7980d"
      },
      "source": [
        "n=int(input(\"enter the value of n:\"))\r\n",
        "odd=[]\r\n",
        "even=[]\r\n",
        "for i in range (1,n+1,2):\r\n",
        "  odd.append(i)\r\n",
        "  even.append(i-1)\r\n",
        " # if(i%2==1):\r\n",
        "   # odd.append(i)\r\n",
        " # else:\r\n",
        "   # even.append(i)\r\n",
        "print(odd)\r\n",
        "print(even)"
      ],
      "execution_count": null,
      "outputs": [
        {
          "output_type": "stream",
          "text": [
            "enter the value of n:10\n",
            "[1, 3, 5, 7, 9]\n",
            "[0, 2, 4, 6, 8]\n"
          ],
          "name": "stdout"
        }
      ]
    }
  ]
}