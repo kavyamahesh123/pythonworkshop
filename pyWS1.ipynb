{
  "nbformat": 4,
  "nbformat_minor": 0,
  "metadata": {
    "colab": {
      "name": "pyWS1.ipynb",
      "provenance": [],
      "authorship_tag": "ABX9TyPuh13b+WL61gKciDlkEX/3",
      "include_colab_link": true
    },
    "kernelspec": {
      "name": "python3",
      "display_name": "Python 3"
    }
  },
  "cells": [
    {
      "cell_type": "markdown",
      "metadata": {
        "id": "view-in-github",
        "colab_type": "text"
      },
      "source": [
        "<a href=\"https://colab.research.google.com/github/kavyamahesh123/pythonworkshop/blob/main/pyWS1.ipynb\" target=\"_parent\"><img src=\"https://colab.research.google.com/assets/colab-badge.svg\" alt=\"Open In Colab\"/></a>"
      ]
    },
    {
      "cell_type": "code",
      "metadata": {
        "colab": {
          "base_uri": "https://localhost:8080/"
        },
        "id": "zSlIrkw62TwY",
        "outputId": "0904cb5b-a10a-4969-e704-ee7f73edea3c"
      },
      "source": [
        "a=input(\"enter the input:\")\r\n",
        "print(a[1:4])\r\n",
        "print(a[0:])\r\n",
        "print(a[:4])\r\n",
        "print(len(a))\r\n",
        "print(a.upper())\r\n",
        "print(a + \"college\")\r\n",
        "txt=\"alvascollege\"\r\n",
        "print(txt.format())\r\n",
        "print(a.isdigit())\r\n",
        "print(a.isalpha())\r\n",
        "print(a)"
      ],
      "execution_count": 34,
      "outputs": [
        {
          "output_type": "stream",
          "text": [
            "enter the input:alvas\n",
            "lva\n",
            "alvas\n",
            "alva\n",
            "5\n",
            "ALVAS\n",
            "alvascollege\n",
            "alvascollege\n",
            "False\n",
            "True\n",
            "alvas\n"
          ],
          "name": "stdout"
        }
      ]
    },
    {
      "cell_type": "code",
      "metadata": {
        "colab": {
          "base_uri": "https://localhost:8080/"
        },
        "id": "yNze5ESG6m4p",
        "outputId": "79b82ff7-d277-47d7-f033-18919adb2f9f"
      },
      "source": [
        "print(10>9)\r\n",
        "print(10==9)\r\n",
        "print(10<9)\r\n",
        "print(10 + 5)\r\n",
        "print(10-5)\r\n",
        "print(10*4)\r\n",
        "print(10/2)\r\n",
        "print(10%5)\r\n",
        "x=10\r\n",
        "x+=3\r\n",
        "print(x)\r\n",
        "y=12\r\n",
        "y-=2\r\n",
        "print(y)\r\n",
        "x,y=10,10\r\n",
        "print(x!=y)\r\n",
        "z,c=3,3\r\n",
        "print(z==c)\r\n",
        "print(z>c)\r\n",
        "print(z<c)\r\n",
        "print(z>c and z<c )\r\n",
        "print(z==c or z<c)"
      ],
      "execution_count": 60,
      "outputs": [
        {
          "output_type": "stream",
          "text": [
            "True\n",
            "False\n",
            "False\n",
            "15\n",
            "5\n",
            "40\n",
            "5.0\n",
            "0\n",
            "13\n",
            "10\n",
            "False\n",
            "True\n",
            "False\n",
            "False\n",
            "False\n",
            "True\n"
          ],
          "name": "stdout"
        }
      ]
    },
    {
      "cell_type": "code",
      "metadata": {
        "colab": {
          "base_uri": "https://localhost:8080/"
        },
        "id": "35VPn1Xx-Vx7",
        "outputId": "b1c8bc79-05bc-442e-babf-afe0cfa21103"
      },
      "source": [
        "x=int(input(\"enter the value of x:\"))\r\n",
        "y=int(input(\"enter the value of y:\"))\r\n",
        "print(x+y)\r\n",
        "print(x-y)\r\n",
        "print(x*y)\r\n",
        "print(x/y)\r\n",
        "print(x%y)\r\n",
        "print(x**y)\r\n",
        "\r\n"
      ],
      "execution_count": 74,
      "outputs": [
        {
          "output_type": "stream",
          "text": [
            "enter the value of x:10\n",
            "enter the value of y:20\n",
            "30\n",
            "-10\n",
            "200\n",
            "0.5\n",
            "10\n",
            "100000000000000000000\n"
          ],
          "name": "stdout"
        }
      ]
    }
  ]
}