{
  "nbformat": 4,
  "nbformat_minor": 0,
  "metadata": {
    "colab": {
      "name": "pyWS1.ipynb",
      "provenance": [],
      "collapsed_sections": [],
      "authorship_tag": "ABX9TyP2XAF0zmld7JU/e57krCOm",
      "include_colab_link": true
    },
    "kernelspec": {
      "name": "python3",
      "display_name": "Python 3"
    }
  },
  "cells": [
    {
      "cell_type": "markdown",
      "metadata": {
        "id": "view-in-github",
        "colab_type": "text"
      },
      "source": [
        "<a href=\"https://colab.research.google.com/github/kavyamahesh123/pythonworkshop/blob/main/pyWS1.ipynb\" target=\"_parent\"><img src=\"https://colab.research.google.com/assets/colab-badge.svg\" alt=\"Open In Colab\"/></a>"
      ]
    },
    {
      "cell_type": "code",
      "metadata": {
        "colab": {
          "base_uri": "https://localhost:8080/"
        },
        "id": "zSlIrkw62TwY",
        "outputId": "0904cb5b-a10a-4969-e704-ee7f73edea3c"
      },
      "source": [
        "a=input(\"enter the input:\")\r\n",
        "print(a[1:4])\r\n",
        "print(a[0:])\r\n",
        "print(a[:4])\r\n",
        "print(len(a))\r\n",
        "print(a.upper())\r\n",
        "print(a + \"college\")\r\n",
        "txt=\"alvascollege\"\r\n",
        "print(txt.format())\r\n",
        "print(a.isdigit())\r\n",
        "print(a.isalpha())\r\n",
        "print(a)"
      ],
      "execution_count": 34,
      "outputs": [
        {
          "output_type": "stream",
          "text": [
            "enter the input:alvas\n",
            "lva\n",
            "alvas\n",
            "alva\n",
            "5\n",
            "ALVAS\n",
            "alvascollege\n",
            "alvascollege\n",
            "False\n",
            "True\n",
            "alvas\n"
          ],
          "name": "stdout"
        }
      ]
    },
    {
      "cell_type": "code",
      "metadata": {
        "colab": {
          "base_uri": "https://localhost:8080/"
        },
        "id": "yNze5ESG6m4p",
        "outputId": "79b82ff7-d277-47d7-f033-18919adb2f9f"
      },
      "source": [
        "print(10>9)\r\n",
        "print(10==9)\r\n",
        "print(10<9)\r\n",
        "print(10 + 5)\r\n",
        "print(10-5)\r\n",
        "print(10*4)\r\n",
        "print(10/2)\r\n",
        "print(10%5)\r\n",
        "x=10\r\n",
        "x+=3\r\n",
        "print(x)\r\n",
        "y=12\r\n",
        "y-=2\r\n",
        "print(y)\r\n",
        "x,y=10,10\r\n",
        "print(x!=y)\r\n",
        "z,c=3,3\r\n",
        "print(z==c)\r\n",
        "print(z>c)\r\n",
        "print(z<c)\r\n",
        "print(z>c and z<c )\r\n",
        "print(z==c or z<c)"
      ],
      "execution_count": 60,
      "outputs": [
        {
          "output_type": "stream",
          "text": [
            "True\n",
            "False\n",
            "False\n",
            "15\n",
            "5\n",
            "40\n",
            "5.0\n",
            "0\n",
            "13\n",
            "10\n",
            "False\n",
            "True\n",
            "False\n",
            "False\n",
            "False\n",
            "True\n"
          ],
          "name": "stdout"
        }
      ]
    },
    {
      "cell_type": "code",
      "metadata": {
        "colab": {
          "base_uri": "https://localhost:8080/"
        },
        "id": "35VPn1Xx-Vx7",
        "outputId": "b1c8bc79-05bc-442e-babf-afe0cfa21103"
      },
      "source": [
        "x=int(input(\"enter the value of x:\"))\r\n",
        "y=int(input(\"enter the value of y:\"))\r\n",
        "print(x+y)\r\n",
        "print(x-y)\r\n",
        "print(x*y)\r\n",
        "print(x/y)\r\n",
        "print(x%y)\r\n",
        "print(x**y)\r\n",
        "\r\n"
      ],
      "execution_count": 74,
      "outputs": [
        {
          "output_type": "stream",
          "text": [
            "enter the value of x:10\n",
            "enter the value of y:20\n",
            "30\n",
            "-10\n",
            "200\n",
            "0.5\n",
            "10\n",
            "100000000000000000000\n"
          ],
          "name": "stdout"
        }
      ]
    },
    {
      "cell_type": "code",
      "metadata": {
        "colab": {
          "base_uri": "https://localhost:8080/"
        },
        "id": "sCluyEIsEXFz",
        "outputId": "8ff43054-8b70-4767-cac4-f1f783ec03c1"
      },
      "source": [
        "thislist=[\"kavya\",\"sonu\",\"mahesh\",\"jyothi\"]\r\n",
        "print(thislist)"
      ],
      "execution_count": 76,
      "outputs": [
        {
          "output_type": "stream",
          "text": [
            "['kavya', 'sonu', 'mahesh', 'jyothi']\n",
            "-1\n"
          ],
          "name": "stdout"
        }
      ]
    },
    {
      "cell_type": "code",
      "metadata": {
        "colab": {
          "base_uri": "https://localhost:8080/"
        },
        "id": "NWoF2Qm6E3Ab",
        "outputId": "e2d4774e-4b6d-4cda-b1a3-0e775086a198"
      },
      "source": [
        "l=[\"kav\",\"son\",\"kms\",\"bhoom\"]\r\n",
        "print(len(l))"
      ],
      "execution_count": 81,
      "outputs": [
        {
          "output_type": "stream",
          "text": [
            "4\n"
          ],
          "name": "stdout"
        }
      ]
    },
    {
      "cell_type": "code",
      "metadata": {
        "colab": {
          "base_uri": "https://localhost:8080/"
        },
        "id": "GVAgzYw8FjIb",
        "outputId": "ef9fb6ee-536f-44fc-f7a9-339fb1412838"
      },
      "source": [
        "a=list({\"cse\",\"ece\",\"ise\"})\r\n",
        "print(a[1])"
      ],
      "execution_count": 83,
      "outputs": [
        {
          "output_type": "stream",
          "text": [
            "cse\n"
          ],
          "name": "stdout"
        }
      ]
    },
    {
      "cell_type": "code",
      "metadata": {
        "colab": {
          "base_uri": "https://localhost:8080/"
        },
        "id": "qhzjRL2tGFij",
        "outputId": "620220d9-b235-4a37-eb37-af5c94b6a8af"
      },
      "source": [
        "a=[\"cse\",\"ece\",\"ise\",\"mech\",\"civ\"]\r\n",
        "print(a[2:5])"
      ],
      "execution_count": 85,
      "outputs": [
        {
          "output_type": "stream",
          "text": [
            "['ise', 'mech', 'civ']\n"
          ],
          "name": "stdout"
        }
      ]
    },
    {
      "cell_type": "code",
      "metadata": {
        "colab": {
          "base_uri": "https://localhost:8080/"
        },
        "id": "0wt53iDfGm4D",
        "outputId": "2e074d72-c89f-4ff9-9d69-7ee9209f57fd"
      },
      "source": [
        "a=[\"cse\",\"ece\",\"ise\",\"mech\",\"civ\"]\r\n",
        "print(a[:4])"
      ],
      "execution_count": 87,
      "outputs": [
        {
          "output_type": "stream",
          "text": [
            "['cse', 'ece', 'ise', 'mech']\n"
          ],
          "name": "stdout"
        }
      ]
    },
    {
      "cell_type": "code",
      "metadata": {
        "colab": {
          "base_uri": "https://localhost:8080/"
        },
        "id": "DQV-OKRkG16T",
        "outputId": "100d64c3-f84a-487f-8cae-63ce6707a36f"
      },
      "source": [
        "a=[\"cse\",\"ece\",\"ise\",\"mech\",\"civ\"]\r\n",
        "a[-2]=\"AI\"\r\n",
        "print(a)\r\n",
        "print(a[1:])"
      ],
      "execution_count": 89,
      "outputs": [
        {
          "output_type": "stream",
          "text": [
            "['cse', 'ece', 'ise', 'AI', 'civ']\n",
            "['ece', 'ise', 'AI', 'civ']\n"
          ],
          "name": "stdout"
        }
      ]
    },
    {
      "cell_type": "code",
      "metadata": {
        "colab": {
          "base_uri": "https://localhost:8080/"
        },
        "id": "tYlvhV8hHoaN",
        "outputId": "a2096d4d-c224-499f-e2b1-f962814f3a96"
      },
      "source": [
        "a=[\"apple\",\"banana\",\"cherry\"]\r\n",
        "print(len(a))\r\n",
        "a.append(\"orange\")\r\n",
        "print(a)\r\n",
        "print(len(a))"
      ],
      "execution_count": 96,
      "outputs": [
        {
          "output_type": "stream",
          "text": [
            "2\n",
            "['apple', 'cherry', 'orange']\n",
            "3\n"
          ],
          "name": "stdout"
        }
      ]
    },
    {
      "cell_type": "code",
      "metadata": {
        "colab": {
          "base_uri": "https://localhost:8080/"
        },
        "id": "g9OQ2hNsIZmz",
        "outputId": "d2f6a045-176a-4839-8387-d7f9a356e45b"
      },
      "source": [
        "a=[\"apple\",\"banana\",\"grapes\"]\r\n",
        "b=[\"cherry\",\"pappaya\",\"pomogranate\"]\r\n",
        "a.extend(b)\r\n",
        "print(a)"
      ],
      "execution_count": 93,
      "outputs": [
        {
          "output_type": "stream",
          "text": [
            "['apple', 'banana', 'grapes', 'cherry', 'pappaya', 'pomogranate']\n"
          ],
          "name": "stdout"
        }
      ]
    },
    {
      "cell_type": "code",
      "metadata": {
        "colab": {
          "base_uri": "https://localhost:8080/"
        },
        "id": "U1CsMgCIJNTz",
        "outputId": "d9c45d2b-22e0-4449-9dbd-a7e52a6cdce3"
      },
      "source": [
        "a=['1','2','3']\r\n",
        "b=['4','5','6']\r\n",
        "c=a+b\r\n",
        "print(c)\r\n",
        "a.remove('2')"
      ],
      "execution_count": 95,
      "outputs": [
        {
          "output_type": "stream",
          "text": [
            "['1', '2', '3', '4', '5', '6']\n"
          ],
          "name": "stdout"
        }
      ]
    },
    {
      "cell_type": "code",
      "metadata": {
        "colab": {
          "base_uri": "https://localhost:8080/"
        },
        "id": "62EL-8ZSJ9kd",
        "outputId": "c59ff8dd-5445-4fa3-86f4-df0b8d946008"
      },
      "source": [
        "a=[\"APPLE\",\"BANANA\",\"GRAPES\"]\r\n",
        "a.pop(1)\r\n",
        "print(len(a))\r\n",
        "print(a)\r\n"
      ],
      "execution_count": 98,
      "outputs": [
        {
          "output_type": "stream",
          "text": [
            "2\n",
            "['APPLE', 'GRAPES']\n"
          ],
          "name": "stdout"
        }
      ]
    },
    {
      "cell_type": "code",
      "metadata": {
        "colab": {
          "base_uri": "https://localhost:8080/"
        },
        "id": "xqO7c0eMKuJb",
        "outputId": "25eb543f-17dd-45ee-9b54-af60918343d7"
      },
      "source": [
        "a=[100,20,49,30]\r\n",
        "a=a[::-1]\r\n",
        "print(a)"
      ],
      "execution_count": 102,
      "outputs": [
        {
          "output_type": "stream",
          "text": [
            "[30, 49, 20, 100]\n"
          ],
          "name": "stdout"
        }
      ]
    },
    {
      "cell_type": "code",
      "metadata": {
        "colab": {
          "base_uri": "https://localhost:8080/"
        },
        "id": "A4BgfNJ2MVnk",
        "outputId": "37f3dca6-0ca6-49c3-9d39-6700d810b25e"
      },
      "source": [
        "a=['kavya','sonu','pooja','kavana']\r\n",
        "\r\n",
        "print (a[0])"
      ],
      "execution_count": 114,
      "outputs": [
        {
          "output_type": "stream",
          "text": [
            "kavya\n"
          ],
          "name": "stdout"
        }
      ]
    },
    {
      "cell_type": "code",
      "metadata": {
        "colab": {
          "base_uri": "https://localhost:8080/"
        },
        "id": "0IQZ_wgIOBC0",
        "outputId": "d6423590-a0fe-4669-a390-8b7287dc0a7d"
      },
      "source": [
        "animal=['cat','dog','fish','goat']\r\n",
        "age=[1,2,2,6]\r\n",
        "animal.extend(age)\r\n",
        "print(animal)"
      ],
      "execution_count": 115,
      "outputs": [
        {
          "output_type": "stream",
          "text": [
            "['cat', 'dog', 'fish', 'goat', 1, 2, 2, 6]\n"
          ],
          "name": "stdout"
        }
      ]
    },
    {
      "cell_type": "code",
      "metadata": {
        "colab": {
          "base_uri": "https://localhost:8080/"
        },
        "id": "yFUD_8BMOYPF",
        "outputId": "307881c5-8d77-47a1-fdf0-085faec70847"
      },
      "source": [
        "age=[1,2,3,6]\r\n",
        "print(age.pop(2))\r\n",
        "age.append(9)\r\n",
        "print(age.count(3))\r\n",
        "print(age)"
      ],
      "execution_count": 126,
      "outputs": [
        {
          "output_type": "stream",
          "text": [
            "3\n",
            "0\n",
            "[1, 2, 6, 9]\n"
          ],
          "name": "stdout"
        }
      ]
    },
    {
      "cell_type": "code",
      "metadata": {
        "colab": {
          "base_uri": "https://localhost:8080/"
        },
        "id": "4Okyw3BpQ60I",
        "outputId": "b795c80f-181c-47e6-9a2a-91e2443afb0b"
      },
      "source": [
        "a=(\"apple\",\"banana\",\"cherry\")\r\n",
        "y=list(a)\r\n",
        "y[1]=\"kiwi\"\r\n",
        "a=tuple(y)\r\n",
        "print(a)\r\n",
        "print(type(a))\r\n",
        "print(type(y))"
      ],
      "execution_count": 131,
      "outputs": [
        {
          "output_type": "stream",
          "text": [
            "('apple', 'kiwi', 'cherry')\n",
            "<class 'tuple'>\n",
            "<class 'list'>\n"
          ],
          "name": "stdout"
        }
      ]
    },
    {
      "cell_type": "code",
      "metadata": {
        "colab": {
          "base_uri": "https://localhost:8080/"
        },
        "id": "Iv8hVB6UTbq9",
        "outputId": "bf012057-e847-48c0-96f2-8d49909482f5"
      },
      "source": [
        "fruits=[\"apple\",\"banana\",\"cherry\"]\r\n",
        "fruits.append(\"banana\")\r\n",
        "print(fruits)\r\n",
        "print(len(fruits))"
      ],
      "execution_count": 136,
      "outputs": [
        {
          "output_type": "stream",
          "text": [
            "['apple', 'banana', 'cherry', 'banana']\n",
            "4\n"
          ],
          "name": "stdout"
        }
      ]
    },
    {
      "cell_type": "code",
      "metadata": {
        "colab": {
          "base_uri": "https://localhost:8080/"
        },
        "id": "o_5EqzRcURrF",
        "outputId": "20087f58-8b01-4fab-fb99-e5a55d960e53"
      },
      "source": [
        "a=[\"apple\",\"banana\",\"cherry\"]\r\n",
        "b=list(a)\r\n",
        "a.append(\"cherry\")\r\n",
        "b[1]=\"kiwi\"\r\n",
        "a=tuple(b)\r\n",
        "print(a)"
      ],
      "execution_count": 145,
      "outputs": [
        {
          "output_type": "stream",
          "text": [
            "('apple', 'kiwi', 'cherry')\n"
          ],
          "name": "stdout"
        }
      ]
    }
  ]
}