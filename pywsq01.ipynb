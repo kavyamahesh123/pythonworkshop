{
  "nbformat": 4,
  "nbformat_minor": 0,
  "metadata": {
    "colab": {
      "name": "pywsq01.ipynb",
      "provenance": [],
      "collapsed_sections": [],
      "authorship_tag": "ABX9TyO/SX/wuVw0l7ln9AUQ1FMM",
      "include_colab_link": true
    },
    "kernelspec": {
      "name": "python3",
      "display_name": "Python 3"
    }
  },
  "cells": [
    {
      "cell_type": "markdown",
      "metadata": {
        "id": "view-in-github",
        "colab_type": "text"
      },
      "source": [
        "<a href=\"https://colab.research.google.com/github/kavyamahesh123/pythonworkshop/blob/main/pywsq01.ipynb\" target=\"_parent\"><img src=\"https://colab.research.google.com/assets/colab-badge.svg\" alt=\"Open In Colab\"/></a>"
      ]
    },
    {
      "cell_type": "code",
      "metadata": {
        "id": "ndZnlNYKvmm1"
      },
      "source": [
        ""
      ],
      "execution_count": null,
      "outputs": []
    },
    {
      "cell_type": "code",
      "metadata": {
        "colab": {
          "base_uri": "https://localhost:8080/"
        },
        "id": "PHWx255ArEsq",
        "outputId": "5dd1b099-066c-4fd1-972d-cf71591d636c"
      },
      "source": [
        "a=input(\"enter the name and usn separeted by the the space:\")\r\n",
        "x=a.split()\r\n",
        "x.append(\"cse\")\r\n",
        "x.append(\"8431841810\")\r\n",
        "print(x)\r\n",
        "x.reverse()\r\n",
        "print(x)\r\n",
        "\r\n",
        "\r\n"
      ],
      "execution_count": 45,
      "outputs": [
        {
          "output_type": "stream",
          "text": [
            "enter the name and usn separeted by the the space:KavyaMaheshSureban 4AL19CS046\n",
            "['KavyaMaheshSureban', '4AL19CS046', 'cse', '8431841810']\n",
            "['8431841810', 'cse', '4AL19CS046', 'KavyaMaheshSureban']\n"
          ],
          "name": "stdout"
        }
      ]
    }
  ]
}